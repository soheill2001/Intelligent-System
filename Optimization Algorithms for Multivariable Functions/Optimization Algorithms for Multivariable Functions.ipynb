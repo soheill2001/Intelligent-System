{
  "nbformat": 4,
  "nbformat_minor": 0,
  "metadata": {
    "colab": {
      "provenance": [],
      "collapsed_sections": []
    },
    "kernelspec": {
      "name": "python3",
      "display_name": "Python 3"
    },
    "language_info": {
      "name": "python"
    }
  },
  "cells": [
    {
      "cell_type": "markdown",
      "source": [
        "Import Libraries"
      ],
      "metadata": {
        "id": "jTlN3ASvmCQ6"
      }
    },
    {
      "cell_type": "code",
      "source": [
        "import numpy as np\n",
        "from numpy.random import randint\n",
        "from numpy.random import rand\n",
        "import matplotlib.pyplot as plt"
      ],
      "metadata": {
        "id": "7kE9on-zCuA3"
      },
      "execution_count": 61,
      "outputs": []
    },
    {
      "cell_type": "markdown",
      "source": [
        "Newton's Method"
      ],
      "metadata": {
        "id": "m32wArKzdxYQ"
      }
    },
    {
      "cell_type": "code",
      "source": [
        "def df_x1(x1, x2):\n",
        "  return 4 * x1 + 3.4 * x2 * np.pi * np.sin(0.2 * np.pi * x1) - x2"
      ],
      "metadata": {
        "id": "f85rfkwJdRm1"
      },
      "execution_count": 41,
      "outputs": []
    },
    {
      "cell_type": "code",
      "source": [
        "def df_x2(x1, x2):\n",
        "  return 4 * x2 - 17 * np.cos(0.2 * np.pi * x1) - x1"
      ],
      "metadata": {
        "id": "xn4BaWHndXJ5"
      },
      "execution_count": 42,
      "outputs": []
    },
    {
      "cell_type": "code",
      "source": [
        "def df_x1x1(x1, x2):\n",
        "  return 4 + 0.68 * x2 * np.pi**2 * np.cos(0.2 * np.pi * x1)"
      ],
      "metadata": {
        "id": "B3AEjZXpdY1h"
      },
      "execution_count": 43,
      "outputs": []
    },
    {
      "cell_type": "code",
      "source": [
        "def df_x2x2(x1, x2):\n",
        "  return 4"
      ],
      "metadata": {
        "id": "LaOb-9WYdazt"
      },
      "execution_count": 44,
      "outputs": []
    },
    {
      "cell_type": "code",
      "source": [
        "def Newton(iteration, x1, x2):\n",
        "  for i in range(iteration):\n",
        "    x1 = x1 - df_x1(x1, x2) / df_x1x1(x1, x2)\n",
        "    x2 = x2 - df_x2(x1, x2) / df_x2x2(x1, x2)\n",
        "  return x1, x2"
      ],
      "metadata": {
        "id": "zO3MBjTUeQce"
      },
      "execution_count": 45,
      "outputs": []
    },
    {
      "cell_type": "code",
      "source": [
        "def Initilize_x1_x2(step, x1_start, x1_end, x2_start, x2_end):\n",
        "  x1 = np.arange(x1_start, x1_end + step, step)\n",
        "  x2 = np.arange(x2_start, x2_end + step, step)\n",
        "  return x1, x2"
      ],
      "metadata": {
        "id": "kdkFwq9UfxK4"
      },
      "execution_count": 46,
      "outputs": []
    },
    {
      "cell_type": "code",
      "source": [
        "def Calculate_Distance(f, X1, X2, Exact_Value):\n",
        "  if np.abs(f(X1, X2) - Exact_Value) < 1:\n",
        "    return 'close'\n",
        "  elif np.abs(f(X1, X2) - Exact_Value) < 500:\n",
        "    return 'far'\n",
        "  else:\n",
        "    return 'farther'"
      ],
      "metadata": {
        "id": "L5L7SAs6hJp7"
      },
      "execution_count": 47,
      "outputs": []
    },
    {
      "cell_type": "code",
      "source": [
        "def Find_Distance(f, iteration, Exact_Value, step, x1_start, x1_end, x2_start, x2_end):\n",
        "  distance = []\n",
        "  x1x2 = []\n",
        "  x1, x2 = Initilize_x1_x2(step, x1_start, x1_end, x2_start, x2_end)\n",
        "  for i in range(len(x1)):\n",
        "    for j in range(len(x2)):\n",
        "      X1, X2 = Newton(iteration, i, j)\n",
        "      distance.append(Calculate_Distance(f, X1, X2, Exact_Value))\n",
        "      x1x2.append([i, j])\n",
        "  return distance, x1x2"
      ],
      "metadata": {
        "id": "-AGfgnkygOBV"
      },
      "execution_count": 48,
      "outputs": []
    },
    {
      "cell_type": "code",
      "source": [
        "def Graph_Distance(distance, x):\n",
        "  for i in range(len(x)):\n",
        "    if distance[i] == 'close':\n",
        "      plt.scatter(x[i][0], x[i][1], color='y')\n",
        "    elif distance[i] == 'far':\n",
        "      plt.scatter(x[i][0], x[i][1], color='b')\n",
        "    else:\n",
        "      plt.scatter(x[i][0], x[i][1], color='g')"
      ],
      "metadata": {
        "id": "SpciskoPh1QH"
      },
      "execution_count": 52,
      "outputs": []
    },
    {
      "cell_type": "code",
      "source": [
        "function = lambda x1, x2: 2 * (x1)**2 + 2 * (x2)**2 - 17 * x2 * np.cos(0.2 * np.pi * x1) - x1 * x2\n",
        "x1_0 = 1\n",
        "x2_0 =3\n",
        "iteration = 100\n",
        "x1, x2 = Newton(iteration, x1_0, x2_0)\n",
        "print(f'Minimum found at x1 = {x1}, x2 = {x2} and min value of f = {function(x1, x2)}')"
      ],
      "metadata": {
        "colab": {
          "base_uri": "https://localhost:8080/"
        },
        "id": "DIuNdEEGeliK",
        "outputId": "03fcce38-d68f-4c70-d5b5-28691feb7ca3"
      },
      "execution_count": 50,
      "outputs": [
        {
          "output_type": "stream",
          "name": "stdout",
          "text": [
            "Minimum found at x1 = 0.13087466007249957, x2 = 4.268357652256218 and min value of f = -36.40349774185023\n"
          ]
        }
      ]
    },
    {
      "cell_type": "code",
      "source": [
        "Exact_Value = -36.4\n",
        "step = 0.5\n",
        "x1_start = -5\n",
        "x1_end = 5\n",
        "x2_start = 0\n",
        "x2_end = 10\n",
        "distance, x = Find_Distance(function, iteration, Exact_Value, step, x1_start, x1_end, x2_start, x2_end)\n",
        "Graph_Distance(distance, x)"
      ],
      "metadata": {
        "colab": {
          "base_uri": "https://localhost:8080/",
          "height": 265
        },
        "id": "nXzvo2xCi2A_",
        "outputId": "c510117c-9aa0-4f3e-9b1e-dcaf267445da"
      },
      "execution_count": 53,
      "outputs": [
        {
          "output_type": "display_data",
          "data": {
            "text/plain": [
              "<Figure size 432x288 with 1 Axes>"
            ],
            "image/png": "[encoded data removed]"
          },
          "metadata": {
            "needs_background": "light"
          }
        }
      ]
    },
    {
      "cell_type": "markdown",
      "source": [
        "Genetic Algorithm"
      ],
      "metadata": {
        "id": "-52bx1jneML2"
      }
    },
    {
      "cell_type": "code",
      "source": [
        "def Population_Initialize(minimum, maximum, n_variables, pop_size):\n",
        "  return [np.random.randint(minimum, maximum, size=(n_variables)) for i in range(pop_size)]"
      ],
      "metadata": {
        "id": "m4tEioHIy7kk"
      },
      "execution_count": 54,
      "outputs": []
    },
    {
      "cell_type": "code",
      "source": [
        "def Population_Evaluate(f, population):\n",
        "  return [f(i[0], i[1]) for i in population]"
      ],
      "metadata": {
        "id": "pLSwbRzJzE4b"
      },
      "execution_count": 55,
      "outputs": []
    },
    {
      "cell_type": "code",
      "source": [
        "def Fitness(results, pop_size, population):\n",
        "  randA, randB = np.random.randint(0, pop_size), np.random.randint(0, pop_size)\n",
        "  if results[randA] < results[randB]:\n",
        "     p1 = population[randA]\n",
        "  else:\n",
        "     p1 = population[randB]\n",
        "  randA, randB = np.random.randint(0, pop_size), np.random.randint(0, pop_size)  \n",
        "  if results[randA] < results[randB]:\n",
        "     p2 = population[randA]\n",
        "  else:\n",
        "     p2 = population[randB]\n",
        "  signs = []\n",
        "  for i in zip(p1, p2):\n",
        "    if i[0] < 0 and i[1] < 0:\n",
        "       signs.append(-1)\n",
        "    elif i[0] >= 0 and i[1] >= 0:\n",
        "       signs.append(1)\n",
        "    else:\n",
        "       signs.append(np.random.choice([-1, 1]))\n",
        "  return p1, p2, signs"
      ],
      "metadata": {
        "id": "jr372bCRzRGX"
      },
      "execution_count": 56,
      "outputs": []
    },
    {
      "cell_type": "code",
      "source": [
        "def Convert(p1, p2):\n",
        "  p1 = [format(abs(i), '010b') for i in p1]\n",
        "  p2 = [format(abs(i), '010b') for i in p2]\n",
        "  return p1, p2"
      ],
      "metadata": {
        "id": "4riQfaJU2ZBi"
      },
      "execution_count": 57,
      "outputs": []
    },
    {
      "cell_type": "code",
      "source": [
        "def Production(p1, p2, signs, children):\n",
        "  child = []\n",
        "  for i, j in zip(p1, p2):\n",
        "    for k, l in zip(i, j):\n",
        "      if k == l:\n",
        "         child.append(k)\n",
        "      else:\n",
        "         child.append(str(np.random.randint(min(k, l), max(k, l))))\n",
        "  child = ''.join(child)\n",
        "  g1 = child[0:len(child) // 2] \n",
        "  g2 = child[len(child) // 2:len(child)]\n",
        "  children.append(np.asarray([signs[0] * int(g1, 2), signs[1] * int(g2, 2)]))\n",
        "  return children"
      ],
      "metadata": {
        "id": "u3t8psl9zZeF"
      },
      "execution_count": 58,
      "outputs": []
    },
    {
      "cell_type": "code",
      "source": [
        "def Genetic(f, minimum, maximum, n_variables, pop_size, iteration):\n",
        "  population = Population_Initialize(minimum, maximum, n_variables, pop_size)\n",
        "  for i in range(iteration):\n",
        "    results = Population_Evaluate(f, population)\n",
        "    children = [population[np.argmin(results)]]\n",
        "    while len(children) < pop_size:\n",
        "      parent_1, parent_2, signs = Fitness(results, pop_size, population)\n",
        "      parent_1, parent_2 = Convert(parent_1, parent_2)\n",
        "      children = Production(parent_1, parent_2, signs, children)\n",
        "    population = children\n",
        "  return population[0]"
      ],
      "metadata": {
        "id": "4oRHX1Lh1NOM"
      },
      "execution_count": 59,
      "outputs": []
    },
    {
      "cell_type": "code",
      "source": [
        "function = lambda x1, x2: 2 * (x1)**2 + 2 * (x2)**2 - 17 * x2 * np.cos(0.2 * np.pi * x1) - x1 * x2\n",
        "Min = -15\n",
        "Max = 15\n",
        "n_variables = 2\n",
        "pop_size = 100\n",
        "iteration = 1000\n",
        "answer = Genetic(function, Min, Max, n_variables, pop_size, iteration)\n",
        "print(f'Minimum found at x1 = {answer[0]}, x2 = {answer[1]} and min value of f = {function(answer[0], answer[1])}')"
      ],
      "metadata": {
        "colab": {
          "base_uri": "https://localhost:8080/"
        },
        "id": "DKNtnwmxC5XI",
        "outputId": "f7a90277-29ea-44fd-fa97-1812c4dfe97d"
      },
      "execution_count": 60,
      "outputs": [
        {
          "output_type": "stream",
          "name": "stdout",
          "text": [
            "Minimum found at x1 = 0, x2 = 4 and min value of f = -36.0\n"
          ]
        }
      ]
    }
  ]
}